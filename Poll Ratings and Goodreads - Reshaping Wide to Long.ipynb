{
    "cells": [
        {
            "cell_type": "markdown",
            "metadata": {},
            "source": "# FiveThirtyEight's Pollster Ratings & Goodreads: Reshaping Wide to Long"
        },
        {
            "cell_type": "markdown",
            "metadata": {},
            "source": "## Table of Contents\n\n1. Introduction\n2. Install & Import Packages\n3. FiveThirtyEight's Pollster Ratings\n4. Melt\n5. Goodreads Books\n6. Wide_to_Long"
        },
        {
            "cell_type": "markdown",
            "metadata": {},
            "source": "## 1. Introduction\n\nData is commonly in wide format, with rows being unique individual observations (no repeated records) and columns being features for each observation. However, long format, with each row being a single feature and multiple rows for each observation, is tidier as it's structured in key-value pairs and can be better for summarizing data and advanced analysis and plotting. Today, we'll work with the melt method and pd.wide_to_long function to reshape data from wide to long.  \n\nFirst, we'll work with FiveThirtyEight's ratings of 453 pollsters, used to weight polls with higher quality more than those with lower quality in forecasts (https://projects.fivethirtyeight.com/pollster-ratings/). We'll use the melt method to reshape the data from wide to long, focusing on the variables 538 grade, mean-reverted bias, and mean-reverted advanced plus minus. You can learn more about how FiveThirtyEight calculates pollster ratings here (https://fivethirtyeight.com/features/how-fivethirtyeight-calculates-pollster-ratings/).\n\nNext, we'll work with Goodreads data on 50,000+ books. Since it has similar column names that can be broken down into suffixes and prefixes, we'll use the pd.wide_to_long function to reshape it from wide to long format, focusing on book title, page count, rating, and review count. Keep in mind that pd.wide_to_long creates a new multilevel index for the long dataframe.\n\nThe purpose is to reshape data from wide to long format so that it's tidier and can be used later for summary, analysis, and plotting. "
        },
        {
            "cell_type": "markdown",
            "metadata": {},
            "source": "## 2. Install & Import Packages"
        },
        {
            "cell_type": "code",
            "execution_count": 355,
            "metadata": {},
            "outputs": [],
            "source": "import pandas as pd\nimport numpy as np"
        },
        {
            "cell_type": "markdown",
            "metadata": {},
            "source": "## 3. FiveThirtyEight's Pollster Ratings"
        },
        {
            "cell_type": "code",
            "execution_count": 356,
            "metadata": {},
            "outputs": [
                {
                    "data": {
                        "text/html": "<div>\n<style scoped>\n    .dataframe tbody tr th:only-of-type {\n        vertical-align: middle;\n    }\n\n    .dataframe tbody tr th {\n        vertical-align: top;\n    }\n\n    .dataframe thead th {\n        text-align: right;\n    }\n</style>\n<table border=\"1\" class=\"dataframe\">\n  <thead>\n    <tr style=\"text-align: right;\">\n      <th></th>\n      <th>Pollster</th>\n      <th>Pollster Rating ID</th>\n      <th># of Polls</th>\n      <th>NCPP / AAPOR / Roper</th>\n      <th>Live Caller With Cellphones</th>\n      <th>Methodology</th>\n      <th>Banned by 538</th>\n      <th>Predictive    Plus-Minus</th>\n      <th>538 Grade</th>\n      <th>Mean-Reverted Bias</th>\n      <th>...</th>\n      <th>Simple Expected Error</th>\n      <th>Simple Plus-Minus</th>\n      <th>Advanced Plus-Minus</th>\n      <th>Mean-Reverted Advanced Plus Minus</th>\n      <th># of Polls for Bias Analysis</th>\n      <th>Bias</th>\n      <th>House Effect</th>\n      <th>Average Distance from Polling Average (ADPA)</th>\n      <th>Herding Penalty</th>\n      <th>latest_poll</th>\n    </tr>\n  </thead>\n  <tbody>\n    <tr>\n      <th>0</th>\n      <td>Monmouth University</td>\n      <td>215</td>\n      <td>108</td>\n      <td>yes</td>\n      <td>yes</td>\n      <td>Live</td>\n      <td>no</td>\n      <td>-1.6</td>\n      <td>A+</td>\n      <td>D +1.3</td>\n      <td>...</td>\n      <td>6.7</td>\n      <td>-1.2</td>\n      <td>-2.0</td>\n      <td>-1.6</td>\n      <td>71</td>\n      <td>D +1.8</td>\n      <td>R +0.4</td>\n      <td>5.2</td>\n      <td>0.20</td>\n      <td>3/13/20</td>\n    </tr>\n    <tr>\n      <th>1</th>\n      <td>Selzer &amp; Co.</td>\n      <td>304</td>\n      <td>48</td>\n      <td>yes</td>\n      <td>yes</td>\n      <td>Live</td>\n      <td>no</td>\n      <td>-1.3</td>\n      <td>A+</td>\n      <td>D +0.1</td>\n      <td>...</td>\n      <td>6.1</td>\n      <td>-1.3</td>\n      <td>-1.8</td>\n      <td>-1.1</td>\n      <td>31</td>\n      <td>D +0.2</td>\n      <td>D +0.2</td>\n      <td>5.2</td>\n      <td>0.00</td>\n      <td>11/1/18</td>\n    </tr>\n    <tr>\n      <th>2</th>\n      <td>ABC News/The Washington Post</td>\n      <td>3</td>\n      <td>73</td>\n      <td>yes</td>\n      <td>yes</td>\n      <td>Live</td>\n      <td>no</td>\n      <td>-1.3</td>\n      <td>A+</td>\n      <td>D +0.5</td>\n      <td>...</td>\n      <td>4.8</td>\n      <td>-1.7</td>\n      <td>-1.7</td>\n      <td>-1.2</td>\n      <td>68</td>\n      <td>D +0.8</td>\n      <td>D +1.3</td>\n      <td>3.8</td>\n      <td>0.12</td>\n      <td>10/31/18</td>\n    </tr>\n    <tr>\n      <th>3</th>\n      <td>Siena College/The New York Times Upshot</td>\n      <td>448</td>\n      <td>59</td>\n      <td>yes</td>\n      <td>yes</td>\n      <td>Live</td>\n      <td>no</td>\n      <td>-1.1</td>\n      <td>A+</td>\n      <td>R +0.3</td>\n      <td>...</td>\n      <td>5.7</td>\n      <td>-1.6</td>\n      <td>-1.5</td>\n      <td>-1.1</td>\n      <td>58</td>\n      <td>R +0.4</td>\n      <td>D +0.4</td>\n      <td>4.4</td>\n      <td>0.19</td>\n      <td>1/22/20</td>\n    </tr>\n    <tr>\n      <th>4</th>\n      <td>Field Research Corp. (Field Poll)</td>\n      <td>94</td>\n      <td>25</td>\n      <td>yes</td>\n      <td>yes</td>\n      <td>Live</td>\n      <td>no</td>\n      <td>-1.1</td>\n      <td>A/B</td>\n      <td>R +0.7</td>\n      <td>...</td>\n      <td>5.6</td>\n      <td>-1.5</td>\n      <td>-2.0</td>\n      <td>-0.7</td>\n      <td>18</td>\n      <td>R +2.5</td>\n      <td>D +0.6</td>\n      <td>4.7</td>\n      <td>0.01</td>\n      <td>5/29/16</td>\n    </tr>\n    <tr>\n      <th>448</th>\n      <td>SurveyMonkey</td>\n      <td>324</td>\n      <td>210</td>\n      <td>no</td>\n      <td>no</td>\n      <td>Online</td>\n      <td>no</td>\n      <td>2.6</td>\n      <td>D-</td>\n      <td>D +5.0</td>\n      <td>...</td>\n      <td>4.4</td>\n      <td>2.9</td>\n      <td>2.3</td>\n      <td>2.1</td>\n      <td>197</td>\n      <td>D +5.6</td>\n      <td>D +2.9</td>\n      <td>5.5</td>\n      <td>0.00</td>\n      <td>10/15/19</td>\n    </tr>\n    <tr>\n      <th>449</th>\n      <td>Nielson Brothers Polling</td>\n      <td>231</td>\n      <td>9</td>\n      <td>no</td>\n      <td>no</td>\n      <td>IVR</td>\n      <td>no</td>\n      <td>3.0</td>\n      <td>C/D</td>\n      <td>D +2.9</td>\n      <td>...</td>\n      <td>5.1</td>\n      <td>7.3</td>\n      <td>8.0</td>\n      <td>1.9</td>\n      <td>9</td>\n      <td>D +12.2</td>\n      <td>D +9.9</td>\n      <td>8.2</td>\n      <td>0.00</td>\n      <td>10/25/16</td>\n    </tr>\n    <tr>\n      <th>450</th>\n      <td>TCJ Research</td>\n      <td>327</td>\n      <td>132</td>\n      <td>no</td>\n      <td>no</td>\n      <td>IVR</td>\n      <td>yes</td>\n      <td>3.0</td>\n      <td>F</td>\n      <td>R +4.4</td>\n      <td>...</td>\n      <td>4.5</td>\n      <td>2.1</td>\n      <td>3.0</td>\n      <td>2.4</td>\n      <td>124</td>\n      <td>R +5.6</td>\n      <td>R +3.5</td>\n      <td>4.4</td>\n      <td>0.00</td>\n      <td>11/5/12</td>\n    </tr>\n    <tr>\n      <th>451</th>\n      <td>Humphrey Institute</td>\n      <td>143</td>\n      <td>12</td>\n      <td>no</td>\n      <td>no</td>\n      <td>Landline</td>\n      <td>no</td>\n      <td>3.0</td>\n      <td>C/D</td>\n      <td>D +0.6</td>\n      <td>...</td>\n      <td>6.5</td>\n      <td>11.6</td>\n      <td>9.2</td>\n      <td>1.9</td>\n      <td>8</td>\n      <td>D +3.8</td>\n      <td>D +3.0</td>\n      <td>5.5</td>\n      <td>0.00</td>\n      <td>10/23/10</td>\n    </tr>\n    <tr>\n      <th>452</th>\n      <td>Jayhawk Consulting</td>\n      <td>157</td>\n      <td>2</td>\n      <td>no</td>\n      <td>no</td>\n      <td>Landline</td>\n      <td>no</td>\n      <td>3.4</td>\n      <td>C/D</td>\n      <td>D +3.0</td>\n      <td>...</td>\n      <td>5.8</td>\n      <td>32.0</td>\n      <td>26.9</td>\n      <td>2.1</td>\n      <td>2</td>\n      <td>D +37.6</td>\n      <td>D +10.9</td>\n      <td>NaN</td>\n      <td>0.00</td>\n      <td>10/23/18</td>\n    </tr>\n  </tbody>\n</table>\n<p>10 rows \u00d7 23 columns</p>\n</div>",
                        "text/plain": "                                    Pollster  Pollster Rating ID  # of Polls  \\\n0                        Monmouth University                 215         108   \n1                               Selzer & Co.                 304          48   \n2               ABC News/The Washington Post                   3          73   \n3    Siena College/The New York Times Upshot                 448          59   \n4          Field Research Corp. (Field Poll)                  94          25   \n448                             SurveyMonkey                 324         210   \n449                 Nielson Brothers Polling                 231           9   \n450                             TCJ Research                 327         132   \n451                       Humphrey Institute                 143          12   \n452                       Jayhawk Consulting                 157           2   \n\n    NCPP / AAPOR / Roper Live Caller With Cellphones Methodology  \\\n0                    yes                         yes        Live   \n1                    yes                         yes        Live   \n2                    yes                         yes        Live   \n3                    yes                         yes        Live   \n4                    yes                         yes        Live   \n448                   no                          no      Online   \n449                   no                          no         IVR   \n450                   no                          no         IVR   \n451                   no                          no    Landline   \n452                   no                          no    Landline   \n\n    Banned by 538  Predictive    Plus-Minus 538 Grade Mean-Reverted Bias  ...  \\\n0              no                      -1.6        A+             D +1.3  ...   \n1              no                      -1.3        A+             D +0.1  ...   \n2              no                      -1.3        A+             D +0.5  ...   \n3              no                      -1.1        A+             R +0.3  ...   \n4              no                      -1.1       A/B             R +0.7  ...   \n448            no                       2.6        D-             D +5.0  ...   \n449            no                       3.0       C/D             D +2.9  ...   \n450           yes                       3.0         F             R +4.4  ...   \n451            no                       3.0       C/D             D +0.6  ...   \n452            no                       3.4       C/D             D +3.0  ...   \n\n    Simple Expected Error Simple Plus-Minus  Advanced Plus-Minus  \\\n0                     6.7              -1.2                 -2.0   \n1                     6.1              -1.3                 -1.8   \n2                     4.8              -1.7                 -1.7   \n3                     5.7              -1.6                 -1.5   \n4                     5.6              -1.5                 -2.0   \n448                   4.4               2.9                  2.3   \n449                   5.1               7.3                  8.0   \n450                   4.5               2.1                  3.0   \n451                   6.5              11.6                  9.2   \n452                   5.8              32.0                 26.9   \n\n     Mean-Reverted Advanced Plus Minus  # of Polls for Bias Analysis     Bias  \\\n0                                 -1.6                            71   D +1.8   \n1                                 -1.1                            31   D +0.2   \n2                                 -1.2                            68   D +0.8   \n3                                 -1.1                            58   R +0.4   \n4                                 -0.7                            18   R +2.5   \n448                                2.1                           197   D +5.6   \n449                                1.9                             9  D +12.2   \n450                                2.4                           124   R +5.6   \n451                                1.9                             8   D +3.8   \n452                                2.1                             2  D +37.6   \n\n     House Effect  Average Distance from Polling Average (ADPA)  \\\n0          R +0.4                                           5.2   \n1          D +0.2                                           5.2   \n2          D +1.3                                           3.8   \n3          D +0.4                                           4.4   \n4          D +0.6                                           4.7   \n448        D +2.9                                           5.5   \n449        D +9.9                                           8.2   \n450        R +3.5                                           4.4   \n451        D +3.0                                           5.5   \n452       D +10.9                                           NaN   \n\n    Herding Penalty latest_poll  \n0              0.20     3/13/20  \n1              0.00     11/1/18  \n2              0.12    10/31/18  \n3              0.19     1/22/20  \n4              0.01     5/29/16  \n448            0.00    10/15/19  \n449            0.00    10/25/16  \n450            0.00     11/5/12  \n451            0.00    10/23/10  \n452            0.00    10/23/18  \n\n[10 rows x 23 columns]"
                    },
                    "execution_count": 356,
                    "metadata": {},
                    "output_type": "execute_result"
                }
            ],
            "source": "# Read in data\nurl = 'https://raw.githubusercontent.com/fivethirtyeight/data/master/pollster-ratings/pollster-ratings.csv'\npolls = pd.read_csv(url)\n\n# Check first and last 5 rows\npd.concat([polls.head(), polls.tail()])"
        },
        {
            "cell_type": "code",
            "execution_count": 357,
            "metadata": {},
            "outputs": [
                {
                    "data": {
                        "text/plain": "(453, 23)"
                    },
                    "execution_count": 357,
                    "metadata": {},
                    "output_type": "execute_result"
                }
            ],
            "source": "# Check shape - we have 453 polls\npolls.shape"
        },
        {
            "cell_type": "markdown",
            "metadata": {},
            "source": "## 4. Melt"
        },
        {
            "cell_type": "code",
            "execution_count": 358,
            "metadata": {},
            "outputs": [
                {
                    "data": {
                        "text/html": "<div>\n<style scoped>\n    .dataframe tbody tr th:only-of-type {\n        vertical-align: middle;\n    }\n\n    .dataframe tbody tr th {\n        vertical-align: top;\n    }\n\n    .dataframe thead th {\n        text-align: right;\n    }\n</style>\n<table border=\"1\" class=\"dataframe\">\n  <thead>\n    <tr style=\"text-align: right;\">\n      <th></th>\n      <th>Pollster</th>\n      <th>Methodology</th>\n      <th>Feature</th>\n      <th>Value</th>\n    </tr>\n  </thead>\n  <tbody>\n    <tr>\n      <th>0</th>\n      <td>Monmouth University</td>\n      <td>Live</td>\n      <td>538 Grade</td>\n      <td>A+</td>\n    </tr>\n    <tr>\n      <th>1</th>\n      <td>Selzer &amp; Co.</td>\n      <td>Live</td>\n      <td>538 Grade</td>\n      <td>A+</td>\n    </tr>\n    <tr>\n      <th>2</th>\n      <td>ABC News/The Washington Post</td>\n      <td>Live</td>\n      <td>538 Grade</td>\n      <td>A+</td>\n    </tr>\n    <tr>\n      <th>3</th>\n      <td>Siena College/The New York Times Upshot</td>\n      <td>Live</td>\n      <td>538 Grade</td>\n      <td>A+</td>\n    </tr>\n    <tr>\n      <th>4</th>\n      <td>Field Research Corp. (Field Poll)</td>\n      <td>Live</td>\n      <td>538 Grade</td>\n      <td>A/B</td>\n    </tr>\n    <tr>\n      <th>1354</th>\n      <td>SurveyMonkey</td>\n      <td>Online</td>\n      <td>Mean-Reverted Advanced Plus Minus</td>\n      <td>2.1</td>\n    </tr>\n    <tr>\n      <th>1355</th>\n      <td>Nielson Brothers Polling</td>\n      <td>IVR</td>\n      <td>Mean-Reverted Advanced Plus Minus</td>\n      <td>1.9</td>\n    </tr>\n    <tr>\n      <th>1356</th>\n      <td>TCJ Research</td>\n      <td>IVR</td>\n      <td>Mean-Reverted Advanced Plus Minus</td>\n      <td>2.4</td>\n    </tr>\n    <tr>\n      <th>1357</th>\n      <td>Humphrey Institute</td>\n      <td>Landline</td>\n      <td>Mean-Reverted Advanced Plus Minus</td>\n      <td>1.9</td>\n    </tr>\n    <tr>\n      <th>1358</th>\n      <td>Jayhawk Consulting</td>\n      <td>Landline</td>\n      <td>Mean-Reverted Advanced Plus Minus</td>\n      <td>2.1</td>\n    </tr>\n  </tbody>\n</table>\n</div>",
                        "text/plain": "                                     Pollster Methodology  \\\n0                         Monmouth University        Live   \n1                                Selzer & Co.        Live   \n2                ABC News/The Washington Post        Live   \n3     Siena College/The New York Times Upshot        Live   \n4           Field Research Corp. (Field Poll)        Live   \n1354                             SurveyMonkey      Online   \n1355                 Nielson Brothers Polling         IVR   \n1356                             TCJ Research         IVR   \n1357                       Humphrey Institute    Landline   \n1358                       Jayhawk Consulting    Landline   \n\n                                Feature Value  \n0                             538 Grade    A+  \n1                             538 Grade    A+  \n2                             538 Grade    A+  \n3                             538 Grade    A+  \n4                             538 Grade   A/B  \n1354  Mean-Reverted Advanced Plus Minus   2.1  \n1355  Mean-Reverted Advanced Plus Minus   1.9  \n1356  Mean-Reverted Advanced Plus Minus   2.4  \n1357  Mean-Reverted Advanced Plus Minus   1.9  \n1358  Mean-Reverted Advanced Plus Minus   2.1  "
                    },
                    "execution_count": 358,
                    "metadata": {},
                    "output_type": "execute_result"
                }
            ],
            "source": "# id_vars are the identifiers - let's use Pollster and Methodology\n# value_vars are the variables we want to focus on - 538 Grade, Mean-Reverted Bias, and Mean-Reverted Advanced Plus Minus\n# var_name is the variable name - Feature\n# value_name is the value name - Value\n\n# Pollster, Methodlogy are in the long format and match each feature for each observation\n# In the new Feature column, we have the variables we want with one row for each observation and corresponding values in the new column Value\n\npolls = polls.melt(id_vars=['Pollster', 'Methodology'], \n                   value_vars=['538 Grade', 'Mean-Reverted Bias', 'Mean-Reverted Advanced Plus Minus'], \n                   var_name='Feature', \n                   value_name ='Value')\n\n# Check first and last 5 rows\npd.concat([polls.head(), polls.tail()])"
        },
        {
            "cell_type": "markdown",
            "metadata": {},
            "source": "## 5. Goodreads Books"
        },
        {
            "cell_type": "code",
            "execution_count": 359,
            "metadata": {},
            "outputs": [],
            "source": "# The code was removed by Watson Studio for sharing."
        },
        {
            "cell_type": "code",
            "execution_count": 360,
            "metadata": {},
            "outputs": [
                {
                    "data": {
                        "text/html": "<div>\n<style scoped>\n    .dataframe tbody tr th:only-of-type {\n        vertical-align: middle;\n    }\n\n    .dataframe tbody tr th {\n        vertical-align: top;\n    }\n\n    .dataframe thead th {\n        text-align: right;\n    }\n</style>\n<table border=\"1\" class=\"dataframe\">\n  <thead>\n    <tr style=\"text-align: right;\">\n      <th></th>\n      <th>book_authors</th>\n      <th>book_desc</th>\n      <th>book_edition</th>\n      <th>book_format</th>\n      <th>book_isbn</th>\n      <th>book_pages</th>\n      <th>book_rating</th>\n      <th>book_rating_count</th>\n      <th>book_review_count</th>\n      <th>book_title</th>\n      <th>genres</th>\n      <th>image_url</th>\n    </tr>\n  </thead>\n  <tbody>\n    <tr>\n      <th>0</th>\n      <td>Suzanne Collins</td>\n      <td>Winning will make you famous. Losing means cer...</td>\n      <td>NaN</td>\n      <td>Hardcover</td>\n      <td>9.78044E+12</td>\n      <td>374 pages</td>\n      <td>4.33</td>\n      <td>5519135</td>\n      <td>160706</td>\n      <td>The Hunger Games</td>\n      <td>Young Adult|Fiction|Science Fiction|Dystopia|F...</td>\n      <td>https://images.gr-assets.com/books/1447303603l...</td>\n    </tr>\n    <tr>\n      <th>1</th>\n      <td>J.K. Rowling|Mary GrandPr\u00e9</td>\n      <td>There is a door at the end of a silent corrido...</td>\n      <td>US Edition</td>\n      <td>Paperback</td>\n      <td>9.78044E+12</td>\n      <td>870 pages</td>\n      <td>4.48</td>\n      <td>2041594</td>\n      <td>33264</td>\n      <td>Harry Potter and the Order of the Phoenix</td>\n      <td>Fantasy|Young Adult|Fiction</td>\n      <td>https://images.gr-assets.com/books/1255614970l...</td>\n    </tr>\n    <tr>\n      <th>2</th>\n      <td>Harper Lee</td>\n      <td>The unforgettable novel of a childhood in a sl...</td>\n      <td>50th Anniversary</td>\n      <td>Paperback</td>\n      <td>9.78006E+12</td>\n      <td>324 pages</td>\n      <td>4.27</td>\n      <td>3745197</td>\n      <td>79450</td>\n      <td>To Kill a Mockingbird</td>\n      <td>Classics|Fiction|Historical|Historical Fiction...</td>\n      <td>https://images.gr-assets.com/books/1361975680l...</td>\n    </tr>\n    <tr>\n      <th>3</th>\n      <td>Jane Austen|Anna Quindlen|Mrs. Oliphant|George...</td>\n      <td>\u00ab\u00c8 cosa ormai risaputa che a uno scapolo in po...</td>\n      <td>Modern Library Classics, USA / CAN</td>\n      <td>Paperback</td>\n      <td>9.78068E+12</td>\n      <td>279 pages</td>\n      <td>4.25</td>\n      <td>2453620</td>\n      <td>54322</td>\n      <td>Pride and Prejudice</td>\n      <td>Classics|Fiction|Romance</td>\n      <td>https://images.gr-assets.com/books/1320399351l...</td>\n    </tr>\n    <tr>\n      <th>4</th>\n      <td>Stephenie Meyer</td>\n      <td>About three things I was absolutely positive.F...</td>\n      <td>NaN</td>\n      <td>Paperback</td>\n      <td>9.78032E+12</td>\n      <td>498 pages</td>\n      <td>3.58</td>\n      <td>4281268</td>\n      <td>97991</td>\n      <td>Twilight</td>\n      <td>Young Adult|Fantasy|Romance|Paranormal|Vampire...</td>\n      <td>https://images.gr-assets.com/books/1361039443l...</td>\n    </tr>\n  </tbody>\n</table>\n</div>",
                        "text/plain": "                                        book_authors  \\\n0                                    Suzanne Collins   \n1                         J.K. Rowling|Mary GrandPr\u00e9   \n2                                         Harper Lee   \n3  Jane Austen|Anna Quindlen|Mrs. Oliphant|George...   \n4                                    Stephenie Meyer   \n\n                                           book_desc  \\\n0  Winning will make you famous. Losing means cer...   \n1  There is a door at the end of a silent corrido...   \n2  The unforgettable novel of a childhood in a sl...   \n3  \u00ab\u00c8 cosa ormai risaputa che a uno scapolo in po...   \n4  About three things I was absolutely positive.F...   \n\n                         book_edition book_format    book_isbn book_pages  \\\n0                                 NaN   Hardcover  9.78044E+12  374 pages   \n1                          US Edition   Paperback  9.78044E+12  870 pages   \n2                    50th Anniversary   Paperback  9.78006E+12  324 pages   \n3  Modern Library Classics, USA / CAN   Paperback  9.78068E+12  279 pages   \n4                                 NaN   Paperback  9.78032E+12  498 pages   \n\n   book_rating  book_rating_count  book_review_count  \\\n0         4.33            5519135             160706   \n1         4.48            2041594              33264   \n2         4.27            3745197              79450   \n3         4.25            2453620              54322   \n4         3.58            4281268              97991   \n\n                                  book_title  \\\n0                           The Hunger Games   \n1  Harry Potter and the Order of the Phoenix   \n2                      To Kill a Mockingbird   \n3                        Pride and Prejudice   \n4                                   Twilight   \n\n                                              genres  \\\n0  Young Adult|Fiction|Science Fiction|Dystopia|F...   \n1                        Fantasy|Young Adult|Fiction   \n2  Classics|Fiction|Historical|Historical Fiction...   \n3                           Classics|Fiction|Romance   \n4  Young Adult|Fantasy|Romance|Paranormal|Vampire...   \n\n                                           image_url  \n0  https://images.gr-assets.com/books/1447303603l...  \n1  https://images.gr-assets.com/books/1255614970l...  \n2  https://images.gr-assets.com/books/1361975680l...  \n3  https://images.gr-assets.com/books/1320399351l...  \n4  https://images.gr-assets.com/books/1361039443l...  "
                    },
                    "execution_count": 360,
                    "metadata": {},
                    "output_type": "execute_result"
                }
            ],
            "source": "# Read in data - we see that we have similar column names\nbooks = pd.read_csv(body)\nbooks.head()"
        },
        {
            "cell_type": "code",
            "execution_count": 361,
            "metadata": {},
            "outputs": [
                {
                    "data": {
                        "text/plain": "(54301, 12)"
                    },
                    "execution_count": 361,
                    "metadata": {},
                    "output_type": "execute_result"
                }
            ],
            "source": "# There are 54301 books\nbooks.shape"
        },
        {
            "cell_type": "code",
            "execution_count": 362,
            "metadata": {},
            "outputs": [],
            "source": "# Removed 'pages' from book pages column\nbooks['book_pages'] = books['book_pages'].replace(' pages', '', regex=True)\n\n# Rename book_title column to title (as we'll use this as the index later so it shouldn't have the same suffix as the variables)\nbooks = books.rename(columns={'book_title':'title'})"
        },
        {
            "cell_type": "code",
            "execution_count": 363,
            "metadata": {
                "scrolled": true
            },
            "outputs": [
                {
                    "data": {
                        "text/html": "<div>\n<style scoped>\n    .dataframe tbody tr th:only-of-type {\n        vertical-align: middle;\n    }\n\n    .dataframe tbody tr th {\n        vertical-align: top;\n    }\n\n    .dataframe thead th {\n        text-align: right;\n    }\n</style>\n<table border=\"1\" class=\"dataframe\">\n  <thead>\n    <tr style=\"text-align: right;\">\n      <th></th>\n      <th>title</th>\n      <th>book_pages</th>\n      <th>book_rating</th>\n      <th>book_review_count</th>\n    </tr>\n  </thead>\n  <tbody>\n    <tr>\n      <th>0</th>\n      <td>The Hunger Games</td>\n      <td>374</td>\n      <td>4.33</td>\n      <td>160706</td>\n    </tr>\n    <tr>\n      <th>1</th>\n      <td>Harry Potter and the Order of the Phoenix</td>\n      <td>870</td>\n      <td>4.48</td>\n      <td>33264</td>\n    </tr>\n    <tr>\n      <th>2</th>\n      <td>To Kill a Mockingbird</td>\n      <td>324</td>\n      <td>4.27</td>\n      <td>79450</td>\n    </tr>\n    <tr>\n      <th>3</th>\n      <td>Pride and Prejudice</td>\n      <td>279</td>\n      <td>4.25</td>\n      <td>54322</td>\n    </tr>\n    <tr>\n      <th>4</th>\n      <td>Twilight</td>\n      <td>498</td>\n      <td>3.58</td>\n      <td>97991</td>\n    </tr>\n  </tbody>\n</table>\n</div>",
                        "text/plain": "                                       title book_pages  book_rating  \\\n0                           The Hunger Games        374         4.33   \n1  Harry Potter and the Order of the Phoenix        870         4.48   \n2                      To Kill a Mockingbird        324         4.27   \n3                        Pride and Prejudice        279         4.25   \n4                                   Twilight        498         3.58   \n\n   book_review_count  \n0             160706  \n1              33264  \n2              79450  \n3              54322  \n4              97991  "
                    },
                    "execution_count": 363,
                    "metadata": {},
                    "output_type": "execute_result"
                }
            ],
            "source": "# Let's keep the variables we want to focus on\nkeep = ['title', 'book_pages', 'book_rating', 'book_review_count']\nbooks = books[keep]\nbooks.head()"
        },
        {
            "cell_type": "code",
            "execution_count": 364,
            "metadata": {},
            "outputs": [
                {
                    "data": {
                        "text/plain": "5818"
                    },
                    "execution_count": 364,
                    "metadata": {},
                    "output_type": "execute_result"
                }
            ],
            "source": "# Since we'll be reshaping wide to long, we need to have unique id variables, in this case title. \n\n# Number of duplicate titles\nbooks.shape[0] - books['title'].nunique()"
        },
        {
            "cell_type": "code",
            "execution_count": 365,
            "metadata": {},
            "outputs": [
                {
                    "data": {
                        "text/plain": "(48483, 4)"
                    },
                    "execution_count": 365,
                    "metadata": {},
                    "output_type": "execute_result"
                }
            ],
            "source": "# Let's drop duplicate titles\nbooks = books.drop_duplicates(subset=['title'])\nbooks.shape"
        },
        {
            "cell_type": "markdown",
            "metadata": {},
            "source": "## 6. Wide_to_Long"
        },
        {
            "cell_type": "code",
            "execution_count": 366,
            "metadata": {},
            "outputs": [
                {
                    "data": {
                        "text/html": "<div>\n<style scoped>\n    .dataframe tbody tr th:only-of-type {\n        vertical-align: middle;\n    }\n\n    .dataframe tbody tr th {\n        vertical-align: top;\n    }\n\n    .dataframe thead th {\n        text-align: right;\n    }\n</style>\n<table border=\"1\" class=\"dataframe\">\n  <thead>\n    <tr style=\"text-align: right;\">\n      <th></th>\n      <th></th>\n      <th>book</th>\n    </tr>\n    <tr>\n      <th>title</th>\n      <th>feature</th>\n      <th></th>\n    </tr>\n  </thead>\n  <tbody>\n    <tr>\n      <th>The Hunger Games</th>\n      <th>pages</th>\n      <td>374</td>\n    </tr>\n    <tr>\n      <th>Harry Potter and the Order of the Phoenix</th>\n      <th>pages</th>\n      <td>870</td>\n    </tr>\n    <tr>\n      <th>To Kill a Mockingbird</th>\n      <th>pages</th>\n      <td>324</td>\n    </tr>\n    <tr>\n      <th>Pride and Prejudice</th>\n      <th>pages</th>\n      <td>279</td>\n    </tr>\n    <tr>\n      <th>Twilight</th>\n      <th>pages</th>\n      <td>498</td>\n    </tr>\n    <tr>\n      <th>...</th>\n      <th>...</th>\n      <td>...</td>\n    </tr>\n    <tr>\n      <th>Taking the Field: A Fan's Quest to Run the Team He Loves</th>\n      <th>review_count</th>\n      <td>9</td>\n    </tr>\n    <tr>\n      <th>The Baseball Talmud: Koufax, Greenberg, and the Quest for the Ultimate Jewish All-Star Team</th>\n      <th>review_count</th>\n      <td>5</td>\n    </tr>\n    <tr>\n      <th>Wilpon's Folly - The Story of a Man, His Fortune, and the New York Mets</th>\n      <th>review_count</th>\n      <td>3</td>\n    </tr>\n    <tr>\n      <th>He Wanted the Moon: The Madness and Medical Genius of Dr. Perry Baird, and His Daughter's Quest to Know Him</th>\n      <th>review_count</th>\n      <td>187</td>\n    </tr>\n    <tr>\n      <th>The Anthology and the Rise of the Novel: From Richardson to George Eliot</th>\n      <th>review_count</th>\n      <td>3</td>\n    </tr>\n  </tbody>\n</table>\n<p>145449 rows \u00d7 1 columns</p>\n</div>",
                        "text/plain": "                                                                book\ntitle                                              feature          \nThe Hunger Games                                   pages         374\nHarry Potter and the Order of the Phoenix          pages         870\nTo Kill a Mockingbird                              pages         324\nPride and Prejudice                                pages         279\nTwilight                                           pages         498\n...                                                              ...\nTaking the Field: A Fan's Quest to Run the Team... review_count    9\nThe Baseball Talmud: Koufax, Greenberg, and the... review_count    5\nWilpon's Folly - The Story of a Man, His Fortun... review_count    3\nHe Wanted the Moon: The Madness and Medical Gen... review_count  187\nThe Anthology and the Rise of the Novel: From R... review_count    3\n\n[145449 rows x 1 columns]"
                    },
                    "execution_count": 366,
                    "metadata": {},
                    "output_type": "execute_result"
                }
            ],
            "source": "# stubnames is the prefix for the similar column names\n# i is the index variable we want, in this case title\n# j is the name of variables we'll be moving to long format (the suffixes) - this will be the 2nd level index\n# sep is the separator for the similar column names (default is no space or character)\n# suffix here is a word so we use regex \\w+ (default is number). We can also use regex \\.+ for any characters\n\nbooks_long = pd.wide_to_long(books, stubnames=['book'], i='title', j='feature', sep='_', suffix='\\w+')\nbooks_long"
        },
        {
            "cell_type": "code",
            "execution_count": 367,
            "metadata": {},
            "outputs": [
                {
                    "data": {
                        "text/plain": "(145449, 1)"
                    },
                    "execution_count": 367,
                    "metadata": {},
                    "output_type": "execute_result"
                }
            ],
            "source": "# Check shape of long dataframe \nbooks_long.shape"
        }
    ],
    "metadata": {
        "kernelspec": {
            "display_name": "Python 3.7",
            "language": "python",
            "name": "python3"
        },
        "language_info": {
            "codemirror_mode": {
                "name": "ipython",
                "version": 3
            },
            "file_extension": ".py",
            "mimetype": "text/x-python",
            "name": "python",
            "nbconvert_exporter": "python",
            "pygments_lexer": "ipython3",
            "version": "3.7.9"
        }
    },
    "nbformat": 4,
    "nbformat_minor": 1
}